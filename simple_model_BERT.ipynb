{
 "nbformat": 4,
 "nbformat_minor": 0,
 "metadata": {
  "colab": {
   "provenance": [],
   "gpuType": "A100"
  },
  "kernelspec": {
   "name": "python3",
   "display_name": "Python 3 (ipykernel)",
   "language": "python"
  },
  "language_info": {
   "name": "python"
  },
  "accelerator": "GPU"
 },
 "cells": [
  {
   "cell_type": "code",
   "metadata": {
    "colab": {
     "base_uri": "https://localhost:8080/"
    },
    "id": "mp4K2c6uPwjS",
    "outputId": "5e046082-3f0c-4163-aa15-f6aa242520b6",
    "collapsed": true,
    "ExecuteTime": {
     "end_time": "2025-03-17T17:10:14.098456Z",
     "start_time": "2025-03-17T17:10:09.499318Z"
    }
   },
   "source": [
    "%pip install pandas\n",
    "%pip install scikit-learn\n",
    "%pip install huggingface_hub\n",
    "%pip install datasets\n",
    "%pip install transformers\n",
    "%pip install torch"
   ],
   "outputs": [
    {
     "name": "stdout",
     "output_type": "stream",
     "text": [
      "Requirement already satisfied: pandas in /Users/mollythornber/opt/anaconda3/envs/CSE404ProjectCode/lib/python3.12/site-packages (2.2.3)\r\n",
      "Requirement already satisfied: numpy>=1.26.0 in /Users/mollythornber/opt/anaconda3/envs/CSE404ProjectCode/lib/python3.12/site-packages (from pandas) (2.2.3)\r\n",
      "Requirement already satisfied: python-dateutil>=2.8.2 in /Users/mollythornber/opt/anaconda3/envs/CSE404ProjectCode/lib/python3.12/site-packages (from pandas) (2.9.0.post0)\r\n",
      "Requirement already satisfied: pytz>=2020.1 in /Users/mollythornber/opt/anaconda3/envs/CSE404ProjectCode/lib/python3.12/site-packages (from pandas) (2025.1)\r\n",
      "Requirement already satisfied: tzdata>=2022.7 in /Users/mollythornber/opt/anaconda3/envs/CSE404ProjectCode/lib/python3.12/site-packages (from pandas) (2025.1)\r\n",
      "Requirement already satisfied: six>=1.5 in /Users/mollythornber/opt/anaconda3/envs/CSE404ProjectCode/lib/python3.12/site-packages (from python-dateutil>=2.8.2->pandas) (1.17.0)\r\n",
      "Note: you may need to restart the kernel to use updated packages.\n",
      "Requirement already satisfied: scikit-learn in /Users/mollythornber/opt/anaconda3/envs/CSE404ProjectCode/lib/python3.12/site-packages (1.6.1)\r\n",
      "Requirement already satisfied: numpy>=1.19.5 in /Users/mollythornber/opt/anaconda3/envs/CSE404ProjectCode/lib/python3.12/site-packages (from scikit-learn) (2.2.3)\r\n",
      "Requirement already satisfied: scipy>=1.6.0 in /Users/mollythornber/opt/anaconda3/envs/CSE404ProjectCode/lib/python3.12/site-packages (from scikit-learn) (1.15.2)\r\n",
      "Requirement already satisfied: joblib>=1.2.0 in /Users/mollythornber/opt/anaconda3/envs/CSE404ProjectCode/lib/python3.12/site-packages (from scikit-learn) (1.4.2)\r\n",
      "Requirement already satisfied: threadpoolctl>=3.1.0 in /Users/mollythornber/opt/anaconda3/envs/CSE404ProjectCode/lib/python3.12/site-packages (from scikit-learn) (3.6.0)\r\n",
      "Note: you may need to restart the kernel to use updated packages.\n",
      "Requirement already satisfied: matplotlib in /Users/mollythornber/opt/anaconda3/envs/CSE404ProjectCode/lib/python3.12/site-packages (3.10.1)\r\n",
      "Requirement already satisfied: contourpy>=1.0.1 in /Users/mollythornber/opt/anaconda3/envs/CSE404ProjectCode/lib/python3.12/site-packages (from matplotlib) (1.3.1)\r\n",
      "Requirement already satisfied: cycler>=0.10 in /Users/mollythornber/opt/anaconda3/envs/CSE404ProjectCode/lib/python3.12/site-packages (from matplotlib) (0.12.1)\r\n",
      "Requirement already satisfied: fonttools>=4.22.0 in /Users/mollythornber/opt/anaconda3/envs/CSE404ProjectCode/lib/python3.12/site-packages (from matplotlib) (4.56.0)\r\n",
      "Requirement already satisfied: kiwisolver>=1.3.1 in /Users/mollythornber/opt/anaconda3/envs/CSE404ProjectCode/lib/python3.12/site-packages (from matplotlib) (1.4.8)\r\n",
      "Requirement already satisfied: numpy>=1.23 in /Users/mollythornber/opt/anaconda3/envs/CSE404ProjectCode/lib/python3.12/site-packages (from matplotlib) (2.2.3)\r\n",
      "Requirement already satisfied: packaging>=20.0 in /Users/mollythornber/opt/anaconda3/envs/CSE404ProjectCode/lib/python3.12/site-packages (from matplotlib) (24.2)\r\n",
      "Requirement already satisfied: pillow>=8 in /Users/mollythornber/opt/anaconda3/envs/CSE404ProjectCode/lib/python3.12/site-packages (from matplotlib) (11.1.0)\r\n",
      "Requirement already satisfied: pyparsing>=2.3.1 in /Users/mollythornber/opt/anaconda3/envs/CSE404ProjectCode/lib/python3.12/site-packages (from matplotlib) (3.2.1)\r\n",
      "Requirement already satisfied: python-dateutil>=2.7 in /Users/mollythornber/opt/anaconda3/envs/CSE404ProjectCode/lib/python3.12/site-packages (from matplotlib) (2.9.0.post0)\r\n",
      "Requirement already satisfied: six>=1.5 in /Users/mollythornber/opt/anaconda3/envs/CSE404ProjectCode/lib/python3.12/site-packages (from python-dateutil>=2.7->matplotlib) (1.17.0)\r\n",
      "Note: you may need to restart the kernel to use updated packages.\n",
      "Requirement already satisfied: fsspec in /Users/mollythornber/opt/anaconda3/envs/CSE404ProjectCode/lib/python3.12/site-packages (2024.12.0)\r\n",
      "Note: you may need to restart the kernel to use updated packages.\n",
      "Requirement already satisfied: huggingface_hub in /Users/mollythornber/opt/anaconda3/envs/CSE404ProjectCode/lib/python3.12/site-packages (0.28.1)\r\n",
      "Requirement already satisfied: filelock in /Users/mollythornber/opt/anaconda3/envs/CSE404ProjectCode/lib/python3.12/site-packages (from huggingface_hub) (3.17.0)\r\n",
      "Requirement already satisfied: fsspec>=2023.5.0 in /Users/mollythornber/opt/anaconda3/envs/CSE404ProjectCode/lib/python3.12/site-packages (from huggingface_hub) (2024.12.0)\r\n",
      "Requirement already satisfied: packaging>=20.9 in /Users/mollythornber/opt/anaconda3/envs/CSE404ProjectCode/lib/python3.12/site-packages (from huggingface_hub) (24.2)\r\n",
      "Requirement already satisfied: pyyaml>=5.1 in /Users/mollythornber/opt/anaconda3/envs/CSE404ProjectCode/lib/python3.12/site-packages (from huggingface_hub) (6.0.2)\r\n",
      "Requirement already satisfied: requests in /Users/mollythornber/opt/anaconda3/envs/CSE404ProjectCode/lib/python3.12/site-packages (from huggingface_hub) (2.32.3)\r\n",
      "Requirement already satisfied: tqdm>=4.42.1 in /Users/mollythornber/opt/anaconda3/envs/CSE404ProjectCode/lib/python3.12/site-packages (from huggingface_hub) (4.67.1)\r\n",
      "Requirement already satisfied: typing-extensions>=3.7.4.3 in /Users/mollythornber/opt/anaconda3/envs/CSE404ProjectCode/lib/python3.12/site-packages (from huggingface_hub) (4.12.2)\r\n",
      "Requirement already satisfied: charset-normalizer<4,>=2 in /Users/mollythornber/opt/anaconda3/envs/CSE404ProjectCode/lib/python3.12/site-packages (from requests->huggingface_hub) (3.4.1)\r\n",
      "Requirement already satisfied: idna<4,>=2.5 in /Users/mollythornber/opt/anaconda3/envs/CSE404ProjectCode/lib/python3.12/site-packages (from requests->huggingface_hub) (3.10)\r\n",
      "Requirement already satisfied: urllib3<3,>=1.21.1 in /Users/mollythornber/opt/anaconda3/envs/CSE404ProjectCode/lib/python3.12/site-packages (from requests->huggingface_hub) (2.3.0)\r\n",
      "Requirement already satisfied: certifi>=2017.4.17 in /Users/mollythornber/opt/anaconda3/envs/CSE404ProjectCode/lib/python3.12/site-packages (from requests->huggingface_hub) (2025.1.31)\r\n",
      "Note: you may need to restart the kernel to use updated packages.\n",
      "Requirement already satisfied: datasets in /Users/mollythornber/opt/anaconda3/envs/CSE404ProjectCode/lib/python3.12/site-packages (3.3.0)\r\n",
      "Requirement already satisfied: filelock in /Users/mollythornber/opt/anaconda3/envs/CSE404ProjectCode/lib/python3.12/site-packages (from datasets) (3.17.0)\r\n",
      "Requirement already satisfied: numpy>=1.17 in /Users/mollythornber/opt/anaconda3/envs/CSE404ProjectCode/lib/python3.12/site-packages (from datasets) (2.2.3)\r\n",
      "Requirement already satisfied: pyarrow>=15.0.0 in /Users/mollythornber/opt/anaconda3/envs/CSE404ProjectCode/lib/python3.12/site-packages (from datasets) (19.0.0)\r\n",
      "Requirement already satisfied: dill<0.3.9,>=0.3.0 in /Users/mollythornber/opt/anaconda3/envs/CSE404ProjectCode/lib/python3.12/site-packages (from datasets) (0.3.8)\r\n",
      "Requirement already satisfied: pandas in /Users/mollythornber/opt/anaconda3/envs/CSE404ProjectCode/lib/python3.12/site-packages (from datasets) (2.2.3)\r\n",
      "Requirement already satisfied: requests>=2.32.2 in /Users/mollythornber/opt/anaconda3/envs/CSE404ProjectCode/lib/python3.12/site-packages (from datasets) (2.32.3)\r\n",
      "Requirement already satisfied: tqdm>=4.66.3 in /Users/mollythornber/opt/anaconda3/envs/CSE404ProjectCode/lib/python3.12/site-packages (from datasets) (4.67.1)\r\n",
      "Requirement already satisfied: xxhash in /Users/mollythornber/opt/anaconda3/envs/CSE404ProjectCode/lib/python3.12/site-packages (from datasets) (3.5.0)\r\n",
      "Requirement already satisfied: multiprocess<0.70.17 in /Users/mollythornber/opt/anaconda3/envs/CSE404ProjectCode/lib/python3.12/site-packages (from datasets) (0.70.16)\r\n",
      "Requirement already satisfied: fsspec<=2024.12.0,>=2023.1.0 in /Users/mollythornber/opt/anaconda3/envs/CSE404ProjectCode/lib/python3.12/site-packages (from fsspec[http]<=2024.12.0,>=2023.1.0->datasets) (2024.12.0)\r\n",
      "Requirement already satisfied: aiohttp in /Users/mollythornber/opt/anaconda3/envs/CSE404ProjectCode/lib/python3.12/site-packages (from datasets) (3.11.12)\r\n",
      "Requirement already satisfied: huggingface-hub>=0.24.0 in /Users/mollythornber/opt/anaconda3/envs/CSE404ProjectCode/lib/python3.12/site-packages (from datasets) (0.28.1)\r\n",
      "Requirement already satisfied: packaging in /Users/mollythornber/opt/anaconda3/envs/CSE404ProjectCode/lib/python3.12/site-packages (from datasets) (24.2)\r\n",
      "Requirement already satisfied: pyyaml>=5.1 in /Users/mollythornber/opt/anaconda3/envs/CSE404ProjectCode/lib/python3.12/site-packages (from datasets) (6.0.2)\r\n",
      "Requirement already satisfied: aiohappyeyeballs>=2.3.0 in /Users/mollythornber/opt/anaconda3/envs/CSE404ProjectCode/lib/python3.12/site-packages (from aiohttp->datasets) (2.4.6)\r\n",
      "Requirement already satisfied: aiosignal>=1.1.2 in /Users/mollythornber/opt/anaconda3/envs/CSE404ProjectCode/lib/python3.12/site-packages (from aiohttp->datasets) (1.3.2)\r\n",
      "Requirement already satisfied: attrs>=17.3.0 in /Users/mollythornber/opt/anaconda3/envs/CSE404ProjectCode/lib/python3.12/site-packages (from aiohttp->datasets) (25.1.0)\r\n",
      "Requirement already satisfied: frozenlist>=1.1.1 in /Users/mollythornber/opt/anaconda3/envs/CSE404ProjectCode/lib/python3.12/site-packages (from aiohttp->datasets) (1.5.0)\r\n",
      "Requirement already satisfied: multidict<7.0,>=4.5 in /Users/mollythornber/opt/anaconda3/envs/CSE404ProjectCode/lib/python3.12/site-packages (from aiohttp->datasets) (6.1.0)\r\n",
      "Requirement already satisfied: propcache>=0.2.0 in /Users/mollythornber/opt/anaconda3/envs/CSE404ProjectCode/lib/python3.12/site-packages (from aiohttp->datasets) (0.2.1)\r\n",
      "Requirement already satisfied: yarl<2.0,>=1.17.0 in /Users/mollythornber/opt/anaconda3/envs/CSE404ProjectCode/lib/python3.12/site-packages (from aiohttp->datasets) (1.18.3)\r\n",
      "Requirement already satisfied: typing-extensions>=3.7.4.3 in /Users/mollythornber/opt/anaconda3/envs/CSE404ProjectCode/lib/python3.12/site-packages (from huggingface-hub>=0.24.0->datasets) (4.12.2)\r\n",
      "Requirement already satisfied: charset-normalizer<4,>=2 in /Users/mollythornber/opt/anaconda3/envs/CSE404ProjectCode/lib/python3.12/site-packages (from requests>=2.32.2->datasets) (3.4.1)\r\n",
      "Requirement already satisfied: idna<4,>=2.5 in /Users/mollythornber/opt/anaconda3/envs/CSE404ProjectCode/lib/python3.12/site-packages (from requests>=2.32.2->datasets) (3.10)\r\n",
      "Requirement already satisfied: urllib3<3,>=1.21.1 in /Users/mollythornber/opt/anaconda3/envs/CSE404ProjectCode/lib/python3.12/site-packages (from requests>=2.32.2->datasets) (2.3.0)\r\n",
      "Requirement already satisfied: certifi>=2017.4.17 in /Users/mollythornber/opt/anaconda3/envs/CSE404ProjectCode/lib/python3.12/site-packages (from requests>=2.32.2->datasets) (2025.1.31)\r\n",
      "Requirement already satisfied: python-dateutil>=2.8.2 in /Users/mollythornber/opt/anaconda3/envs/CSE404ProjectCode/lib/python3.12/site-packages (from pandas->datasets) (2.9.0.post0)\r\n",
      "Requirement already satisfied: pytz>=2020.1 in /Users/mollythornber/opt/anaconda3/envs/CSE404ProjectCode/lib/python3.12/site-packages (from pandas->datasets) (2025.1)\r\n",
      "Requirement already satisfied: tzdata>=2022.7 in /Users/mollythornber/opt/anaconda3/envs/CSE404ProjectCode/lib/python3.12/site-packages (from pandas->datasets) (2025.1)\r\n",
      "Requirement already satisfied: six>=1.5 in /Users/mollythornber/opt/anaconda3/envs/CSE404ProjectCode/lib/python3.12/site-packages (from python-dateutil>=2.8.2->pandas->datasets) (1.17.0)\r\n",
      "Note: you may need to restart the kernel to use updated packages.\n",
      "Requirement already satisfied: tqdm in /Users/mollythornber/opt/anaconda3/envs/CSE404ProjectCode/lib/python3.12/site-packages (4.67.1)\r\n",
      "Note: you may need to restart the kernel to use updated packages.\n",
      "Requirement already satisfied: transformers in /Users/mollythornber/opt/anaconda3/envs/CSE404ProjectCode/lib/python3.12/site-packages (4.49.0)\r\n",
      "Requirement already satisfied: datasets in /Users/mollythornber/opt/anaconda3/envs/CSE404ProjectCode/lib/python3.12/site-packages (3.3.0)\r\n",
      "Requirement already satisfied: torch in /Users/mollythornber/opt/anaconda3/envs/CSE404ProjectCode/lib/python3.12/site-packages (2.6.0)\r\n",
      "Requirement already satisfied: scikit-learn in /Users/mollythornber/opt/anaconda3/envs/CSE404ProjectCode/lib/python3.12/site-packages (1.6.1)\r\n",
      "Requirement already satisfied: filelock in /Users/mollythornber/opt/anaconda3/envs/CSE404ProjectCode/lib/python3.12/site-packages (from transformers) (3.17.0)\r\n",
      "Requirement already satisfied: huggingface-hub<1.0,>=0.26.0 in /Users/mollythornber/opt/anaconda3/envs/CSE404ProjectCode/lib/python3.12/site-packages (from transformers) (0.28.1)\r\n",
      "Requirement already satisfied: numpy>=1.17 in /Users/mollythornber/opt/anaconda3/envs/CSE404ProjectCode/lib/python3.12/site-packages (from transformers) (2.2.3)\r\n",
      "Requirement already satisfied: packaging>=20.0 in /Users/mollythornber/opt/anaconda3/envs/CSE404ProjectCode/lib/python3.12/site-packages (from transformers) (24.2)\r\n",
      "Requirement already satisfied: pyyaml>=5.1 in /Users/mollythornber/opt/anaconda3/envs/CSE404ProjectCode/lib/python3.12/site-packages (from transformers) (6.0.2)\r\n",
      "Requirement already satisfied: regex!=2019.12.17 in /Users/mollythornber/opt/anaconda3/envs/CSE404ProjectCode/lib/python3.12/site-packages (from transformers) (2024.11.6)\r\n",
      "Requirement already satisfied: requests in /Users/mollythornber/opt/anaconda3/envs/CSE404ProjectCode/lib/python3.12/site-packages (from transformers) (2.32.3)\r\n",
      "Requirement already satisfied: tokenizers<0.22,>=0.21 in /Users/mollythornber/opt/anaconda3/envs/CSE404ProjectCode/lib/python3.12/site-packages (from transformers) (0.21.1)\r\n",
      "Requirement already satisfied: safetensors>=0.4.1 in /Users/mollythornber/opt/anaconda3/envs/CSE404ProjectCode/lib/python3.12/site-packages (from transformers) (0.5.3)\r\n",
      "Requirement already satisfied: tqdm>=4.27 in /Users/mollythornber/opt/anaconda3/envs/CSE404ProjectCode/lib/python3.12/site-packages (from transformers) (4.67.1)\r\n",
      "Requirement already satisfied: pyarrow>=15.0.0 in /Users/mollythornber/opt/anaconda3/envs/CSE404ProjectCode/lib/python3.12/site-packages (from datasets) (19.0.0)\r\n",
      "Requirement already satisfied: dill<0.3.9,>=0.3.0 in /Users/mollythornber/opt/anaconda3/envs/CSE404ProjectCode/lib/python3.12/site-packages (from datasets) (0.3.8)\r\n",
      "Requirement already satisfied: pandas in /Users/mollythornber/opt/anaconda3/envs/CSE404ProjectCode/lib/python3.12/site-packages (from datasets) (2.2.3)\r\n",
      "Requirement already satisfied: xxhash in /Users/mollythornber/opt/anaconda3/envs/CSE404ProjectCode/lib/python3.12/site-packages (from datasets) (3.5.0)\r\n",
      "Requirement already satisfied: multiprocess<0.70.17 in /Users/mollythornber/opt/anaconda3/envs/CSE404ProjectCode/lib/python3.12/site-packages (from datasets) (0.70.16)\r\n",
      "Requirement already satisfied: fsspec<=2024.12.0,>=2023.1.0 in /Users/mollythornber/opt/anaconda3/envs/CSE404ProjectCode/lib/python3.12/site-packages (from fsspec[http]<=2024.12.0,>=2023.1.0->datasets) (2024.12.0)\r\n",
      "Requirement already satisfied: aiohttp in /Users/mollythornber/opt/anaconda3/envs/CSE404ProjectCode/lib/python3.12/site-packages (from datasets) (3.11.12)\r\n",
      "Requirement already satisfied: typing-extensions>=4.10.0 in /Users/mollythornber/opt/anaconda3/envs/CSE404ProjectCode/lib/python3.12/site-packages (from torch) (4.12.2)\r\n",
      "Requirement already satisfied: networkx in /Users/mollythornber/opt/anaconda3/envs/CSE404ProjectCode/lib/python3.12/site-packages (from torch) (3.4.2)\r\n",
      "Requirement already satisfied: jinja2 in /Users/mollythornber/opt/anaconda3/envs/CSE404ProjectCode/lib/python3.12/site-packages (from torch) (3.1.6)\r\n",
      "Requirement already satisfied: setuptools in /Users/mollythornber/opt/anaconda3/envs/CSE404ProjectCode/lib/python3.12/site-packages (from torch) (75.8.0)\r\n",
      "Requirement already satisfied: sympy==1.13.1 in /Users/mollythornber/opt/anaconda3/envs/CSE404ProjectCode/lib/python3.12/site-packages (from torch) (1.13.1)\r\n",
      "Requirement already satisfied: mpmath<1.4,>=1.1.0 in /Users/mollythornber/opt/anaconda3/envs/CSE404ProjectCode/lib/python3.12/site-packages (from sympy==1.13.1->torch) (1.3.0)\r\n",
      "Requirement already satisfied: scipy>=1.6.0 in /Users/mollythornber/opt/anaconda3/envs/CSE404ProjectCode/lib/python3.12/site-packages (from scikit-learn) (1.15.2)\r\n",
      "Requirement already satisfied: joblib>=1.2.0 in /Users/mollythornber/opt/anaconda3/envs/CSE404ProjectCode/lib/python3.12/site-packages (from scikit-learn) (1.4.2)\r\n",
      "Requirement already satisfied: threadpoolctl>=3.1.0 in /Users/mollythornber/opt/anaconda3/envs/CSE404ProjectCode/lib/python3.12/site-packages (from scikit-learn) (3.6.0)\r\n",
      "Requirement already satisfied: aiohappyeyeballs>=2.3.0 in /Users/mollythornber/opt/anaconda3/envs/CSE404ProjectCode/lib/python3.12/site-packages (from aiohttp->datasets) (2.4.6)\r\n",
      "Requirement already satisfied: aiosignal>=1.1.2 in /Users/mollythornber/opt/anaconda3/envs/CSE404ProjectCode/lib/python3.12/site-packages (from aiohttp->datasets) (1.3.2)\r\n",
      "Requirement already satisfied: attrs>=17.3.0 in /Users/mollythornber/opt/anaconda3/envs/CSE404ProjectCode/lib/python3.12/site-packages (from aiohttp->datasets) (25.1.0)\r\n",
      "Requirement already satisfied: frozenlist>=1.1.1 in /Users/mollythornber/opt/anaconda3/envs/CSE404ProjectCode/lib/python3.12/site-packages (from aiohttp->datasets) (1.5.0)\r\n",
      "Requirement already satisfied: multidict<7.0,>=4.5 in /Users/mollythornber/opt/anaconda3/envs/CSE404ProjectCode/lib/python3.12/site-packages (from aiohttp->datasets) (6.1.0)\r\n",
      "Requirement already satisfied: propcache>=0.2.0 in /Users/mollythornber/opt/anaconda3/envs/CSE404ProjectCode/lib/python3.12/site-packages (from aiohttp->datasets) (0.2.1)\r\n",
      "Requirement already satisfied: yarl<2.0,>=1.17.0 in /Users/mollythornber/opt/anaconda3/envs/CSE404ProjectCode/lib/python3.12/site-packages (from aiohttp->datasets) (1.18.3)\r\n",
      "Requirement already satisfied: charset-normalizer<4,>=2 in /Users/mollythornber/opt/anaconda3/envs/CSE404ProjectCode/lib/python3.12/site-packages (from requests->transformers) (3.4.1)\r\n",
      "Requirement already satisfied: idna<4,>=2.5 in /Users/mollythornber/opt/anaconda3/envs/CSE404ProjectCode/lib/python3.12/site-packages (from requests->transformers) (3.10)\r\n",
      "Requirement already satisfied: urllib3<3,>=1.21.1 in /Users/mollythornber/opt/anaconda3/envs/CSE404ProjectCode/lib/python3.12/site-packages (from requests->transformers) (2.3.0)\r\n",
      "Requirement already satisfied: certifi>=2017.4.17 in /Users/mollythornber/opt/anaconda3/envs/CSE404ProjectCode/lib/python3.12/site-packages (from requests->transformers) (2025.1.31)\r\n",
      "Requirement already satisfied: MarkupSafe>=2.0 in /Users/mollythornber/opt/anaconda3/envs/CSE404ProjectCode/lib/python3.12/site-packages (from jinja2->torch) (3.0.2)\r\n",
      "Requirement already satisfied: python-dateutil>=2.8.2 in /Users/mollythornber/opt/anaconda3/envs/CSE404ProjectCode/lib/python3.12/site-packages (from pandas->datasets) (2.9.0.post0)\r\n",
      "Requirement already satisfied: pytz>=2020.1 in /Users/mollythornber/opt/anaconda3/envs/CSE404ProjectCode/lib/python3.12/site-packages (from pandas->datasets) (2025.1)\r\n",
      "Requirement already satisfied: tzdata>=2022.7 in /Users/mollythornber/opt/anaconda3/envs/CSE404ProjectCode/lib/python3.12/site-packages (from pandas->datasets) (2025.1)\r\n",
      "Requirement already satisfied: six>=1.5 in /Users/mollythornber/opt/anaconda3/envs/CSE404ProjectCode/lib/python3.12/site-packages (from python-dateutil>=2.8.2->pandas->datasets) (1.17.0)\r\n",
      "Note: you may need to restart the kernel to use updated packages.\n"
     ]
    }
   ],
   "execution_count": 1
  },
  {
   "cell_type": "code",
   "source": [
    "import pandas as pd\n",
    "import numpy as np\n",
    "\n",
    "# Load the training dataset\n",
    "df_train = pd.read_csv(\"hf://datasets/christophsonntag/OLID/train.csv\")\n",
    "\n",
    "# Load the test dataset\n",
    "df_test = pd.read_csv(\"hf://datasets/christophsonntag/OLID/test.csv\")\n",
    "\n",
    "# Extract tweets and labels from both datasets\n",
    "train_tweets = np.array(df_train['tweet'].values)\n",
    "train_labels = np.where(df_train['subtask_a'].values == 'OFF', 1, 0)\n",
    "\n",
    "test_tweets = np.array(df_test['tweet'].values)\n",
    "test_labels = np.where(df_test['subtask_a'].values == 'OFF', 1, 0)\n",
    "\n",
    "print(train_tweets.shape)\n",
    "print(train_labels.shape)\n",
    "print(test_tweets.shape)\n",
    "print(test_labels.shape)"
   ],
   "metadata": {
    "colab": {
     "base_uri": "https://localhost:8080/"
    },
    "id": "GICkkckOREoL",
    "outputId": "22b4808b-f487-4207-82d1-8baf73f78870",
    "ExecuteTime": {
     "end_time": "2025-03-17T17:10:17.658738Z",
     "start_time": "2025-03-17T17:10:15.939353Z"
    }
   },
   "outputs": [
    {
     "name": "stdout",
     "output_type": "stream",
     "text": [
      "(13240,)\n",
      "(13240,)\n",
      "(860,)\n",
      "(860,)\n"
     ]
    }
   ],
   "execution_count": 2
  },
  {
   "cell_type": "markdown",
   "source": [
    "Creating tokenizer to turn testing and training tweets into tokens for the BERT model"
   ],
   "metadata": {
    "id": "I2oBwKDhWANo"
   }
  },
  {
   "cell_type": "code",
   "source": [
    "from transformers import BertTokenizer\n",
    "\n",
    "# Load pre-trained BERT tokenizer\n",
    "tokenizer = BertTokenizer.from_pretrained(\"bert-base-uncased\")\n",
    "\n",
    "# Tokenize training and test tweets\n",
    "train_encodings = tokenizer(list(train_tweets), padding=\"max_length\", truncation=True, max_length=128, return_tensors=\"pt\")\n",
    "test_encodings = tokenizer(list(test_tweets), padding=\"max_length\", truncation=True, max_length=128, return_tensors=\"pt\")"
   ],
   "metadata": {
    "id": "w6E6Q03CUm6y",
    "ExecuteTime": {
     "end_time": "2025-03-17T17:10:26.906745Z",
     "start_time": "2025-03-17T17:10:20.023996Z"
    }
   },
   "outputs": [],
   "execution_count": 3
  },
  {
   "cell_type": "markdown",
   "source": [
    "Converting the tokens and labels of training and testing into the form the BERT model is expecting (which is a Dataset class)"
   ],
   "metadata": {
    "id": "MfSfHj8FWLjd"
   }
  },
  {
   "cell_type": "code",
   "source": [
    "import torch\n",
    "from torch.utils.data import Dataset\n",
    "\n",
    "class OLIDDataset(Dataset):\n",
    "    def __init__(self, encodings, labels):\n",
    "        self.encodings = encodings\n",
    "        self.labels = torch.tensor(labels)\n",
    "\n",
    "    def __len__(self):\n",
    "        return len(self.labels)\n",
    "\n",
    "    def __getitem__(self, idx):\n",
    "        item = {key: val[idx] for key, val in self.encodings.items()}\n",
    "        item[\"labels\"] = self.labels[idx]\n",
    "        return item\n",
    "\n",
    "# Convert tokenized data into datasets\n",
    "train_dataset = OLIDDataset(train_encodings, train_labels)\n",
    "test_dataset = OLIDDataset(test_encodings, test_labels)\n",
    "\n",
    "print(f\"Training set size: {len(train_dataset)}\")\n",
    "print(f\"Test set size: {len(test_dataset)}\")"
   ],
   "metadata": {
    "colab": {
     "base_uri": "https://localhost:8080/"
    },
    "id": "AHYUn7wOU0Be",
    "outputId": "e61fd703-8bf7-48c1-d804-d9f2863cc028",
    "ExecuteTime": {
     "end_time": "2025-03-17T17:11:04.488477Z",
     "start_time": "2025-03-17T17:11:04.476764Z"
    }
   },
   "outputs": [
    {
     "name": "stdout",
     "output_type": "stream",
     "text": [
      "Training set size: 13240\n",
      "Test set size: 860\n"
     ]
    }
   ],
   "execution_count": 4
  },
  {
   "cell_type": "markdown",
   "source": [
    "Set up pre-trained BERT model and creater a trainer for it using our specific data set."
   ],
   "metadata": {
    "id": "UEh0ZGrwXepb"
   }
  },
  {
   "cell_type": "code",
   "source": [
    "from transformers import BertForSequenceClassification, Trainer, TrainingArguments, EarlyStoppingCallback\n",
    "\n",
    "# Load BERT model with dropout regularization\n",
    "model = BertForSequenceClassification.from_pretrained(\n",
    "    \"bert-base-uncased\",\n",
    "    num_labels=2,\n",
    "    hidden_dropout_prob=0.2,\n",
    "    attention_probs_dropout_prob=0.2\n",
    ")\n",
    "\n",
    "training_args = TrainingArguments(\n",
    "    output_dir=\"./results\",\n",
    "    eval_strategy=\"epoch\",\n",
    "    save_strategy=\"best\",  # Save only the best model\n",
    "    load_best_model_at_end=True,  # Fix for EarlyStoppingCallback\n",
    "    metric_for_best_model=\"eval_loss\",  # Ensure best model is based on validation loss\n",
    "    num_train_epochs=5,\n",
    "    per_device_train_batch_size=32,\n",
    "    per_device_eval_batch_size=32,\n",
    "    logging_dir=\"./logs\",\n",
    "    fp16=torch.cuda.is_available(),  # use half precision training if CUDA available\n",
    "    learning_rate=3e-6,\n",
    "    weight_decay=0.01,\n",
    "    report_to=[],  # disable default reporting since we only need our logs\n",
    ")\n",
    "\n",
    "trainer = Trainer(\n",
    "    model=model,\n",
    "    args=training_args,\n",
    "    train_dataset=train_dataset,\n",
    "    eval_dataset=test_dataset,\n",
    "    callbacks=[EarlyStoppingCallback(early_stopping_patience=1)],\n",
    ")"
   ],
   "metadata": {
    "colab": {
     "base_uri": "https://localhost:8080/"
    },
    "id": "GLAGaZMpXQrD",
    "outputId": "8429f740-7524-4406-f187-57732df6578b",
    "ExecuteTime": {
     "end_time": "2025-03-17T17:11:08.933234Z",
     "start_time": "2025-03-17T17:11:07.217822Z"
    }
   },
   "outputs": [
    {
     "name": "stderr",
     "output_type": "stream",
     "text": [
      "Some weights of BertForSequenceClassification were not initialized from the model checkpoint at bert-base-uncased and are newly initialized: ['classifier.bias', 'classifier.weight']\n",
      "You should probably TRAIN this model on a down-stream task to be able to use it for predictions and inference.\n"
     ]
    }
   ],
   "execution_count": 5
  },
  {
   "cell_type": "markdown",
   "source": [
    "Train the model"
   ],
   "metadata": {
    "id": "CXcWDpYfYDio"
   }
  },
  {
   "cell_type": "code",
   "source": [
    "trainer.train()"
   ],
   "metadata": {
    "colab": {
     "base_uri": "https://localhost:8080/",
     "height": 267
    },
    "id": "r6BbM4UoYDLZ",
    "outputId": "eaddd182-978e-40a6-c813-cec665b389d5"
   },
   "execution_count": 35,
   "outputs": [
    {
     "output_type": "display_data",
     "data": {
      "text/plain": [
       "<IPython.core.display.HTML object>"
      ],
      "text/html": [
       "\n",
       "    <div>\n",
       "      \n",
       "      <progress value='2070' max='2070' style='width:300px; height:20px; vertical-align: middle;'></progress>\n",
       "      [2070/2070 01:58, Epoch 5/5]\n",
       "    </div>\n",
       "    <table border=\"1\" class=\"dataframe\">\n",
       "  <thead>\n",
       " <tr style=\"text-align: left;\">\n",
       "      <th>Epoch</th>\n",
       "      <th>Training Loss</th>\n",
       "      <th>Validation Loss</th>\n",
       "    </tr>\n",
       "  </thead>\n",
       "  <tbody>\n",
       "    <tr>\n",
       "      <td>1</td>\n",
       "      <td>No log</td>\n",
       "      <td>0.452166</td>\n",
       "    </tr>\n",
       "    <tr>\n",
       "      <td>2</td>\n",
       "      <td>0.576600</td>\n",
       "      <td>0.380874</td>\n",
       "    </tr>\n",
       "    <tr>\n",
       "      <td>3</td>\n",
       "      <td>0.466700</td>\n",
       "      <td>0.370522</td>\n",
       "    </tr>\n",
       "    <tr>\n",
       "      <td>4</td>\n",
       "      <td>0.444500</td>\n",
       "      <td>0.367556</td>\n",
       "    </tr>\n",
       "    <tr>\n",
       "      <td>5</td>\n",
       "      <td>0.429900</td>\n",
       "      <td>0.367392</td>\n",
       "    </tr>\n",
       "  </tbody>\n",
       "</table><p>"
      ]
     },
     "metadata": {}
    },
    {
     "output_type": "execute_result",
     "data": {
      "text/plain": [
       "TrainOutput(global_step=2070, training_loss=0.47742839297234724, metrics={'train_runtime': 119.0149, 'train_samples_per_second': 556.233, 'train_steps_per_second': 17.393, 'total_flos': 4354487966208000.0, 'train_loss': 0.47742839297234724, 'epoch': 5.0})"
      ]
     },
     "metadata": {},
     "execution_count": 35
    }
   ]
  },
  {
   "cell_type": "markdown",
   "source": [
    "Code to check which checkpoint corresponds to the best model. This the model we'll load to use."
   ],
   "metadata": {
    "id": "3z0HGKIJh9p5"
   }
  },
  {
   "cell_type": "code",
   "source": [
    "import json\n",
    "import os\n",
    "\n",
    "best_checkpoint = None\n",
    "best_loss = float(\"inf\")\n",
    "\n",
    "for checkpoint in os.listdir(\"./results\"):\n",
    "    path = f\"./results/{checkpoint}/trainer_state.json\"\n",
    "\n",
    "    if os.path.exists(path):\n",
    "        with open(path, \"r\") as f:\n",
    "            data = json.load(f)\n",
    "            val_loss = data[\"log_history\"][-1].get(\"eval_loss\", None)  # Get last validation loss\n",
    "\n",
    "            if val_loss is not None:\n",
    "                print(f\"Checkpoint: {checkpoint}, Validation Loss: {val_loss}\")\n",
    "\n",
    "                # Find the checkpoint with the lowest validation loss\n",
    "                if val_loss < best_loss:\n",
    "                    best_loss = val_loss\n",
    "                    best_checkpoint = checkpoint\n",
    "\n",
    "print(f\"\\nBest checkpoint: {best_checkpoint} with Validation Loss: {best_loss}\")\n"
   ],
   "metadata": {
    "colab": {
     "base_uri": "https://localhost:8080/"
    },
    "id": "Pk6FhqAFhcJG",
    "outputId": "73f3548d-cff9-49b6-813c-0034e0204c81"
   },
   "execution_count": 39,
   "outputs": [
    {
     "output_type": "stream",
     "name": "stdout",
     "text": [
      "Checkpoint: checkpoint-2070, Validation Loss: 0.3673921823501587\n",
      "Checkpoint: checkpoint-1656, Validation Loss: 0.36755576729774475\n",
      "Checkpoint: checkpoint-828, Validation Loss: 0.38087400794029236\n",
      "Checkpoint: checkpoint-4140, Validation Loss: 0.8781325221061707\n",
      "Checkpoint: checkpoint-1242, Validation Loss: 0.37052223086357117\n",
      "Checkpoint: checkpoint-3312, Validation Loss: 0.7189924120903015\n",
      "Checkpoint: checkpoint-414, Validation Loss: 0.45216605067253113\n",
      "Checkpoint: checkpoint-2484, Validation Loss: 0.5050203800201416\n",
      "\n",
      "Best checkpoint: checkpoint-2070 with Validation Loss: 0.3673921823501587\n"
     ]
    }
   ]
  },
  {
   "cell_type": "markdown",
   "source": [
    "Running model on test data to generate predictions"
   ],
   "metadata": {
    "id": "dbE_2njmgQRL"
   }
  },
  {
   "cell_type": "code",
   "source": [
    "from transformers import BertForSequenceClassification\n",
    "\n",
    "# Load the best model\n",
    "best_checkpoint = \"./results/checkpoint-2070\"\n",
    "best_model = BertForSequenceClassification.from_pretrained(best_checkpoint)\n",
    "\n",
    "# Save the best model\n",
    "best_model.save_pretrained(\"./final_bert_model\")\n",
    "tokenizer.save_pretrained(\"./final_bert_model\")"
   ],
   "metadata": {
    "colab": {
     "base_uri": "https://localhost:8080/"
    },
    "id": "nBQozpSkZdla",
    "outputId": "95a8c538-8cef-4639-e4a8-ade960bf723e"
   },
   "execution_count": 41,
   "outputs": [
    {
     "output_type": "execute_result",
     "data": {
      "text/plain": [
       "('./final_bert_model/tokenizer_config.json',\n",
       " './final_bert_model/special_tokens_map.json',\n",
       " './final_bert_model/vocab.txt',\n",
       " './final_bert_model/added_tokens.json')"
      ]
     },
     "metadata": {},
     "execution_count": 41
    }
   ]
  },
  {
   "cell_type": "markdown",
   "source": [
    "Getting predictions using the model on the testing data"
   ],
   "metadata": {
    "id": "8iYf41M_iT1A"
   }
  },
  {
   "cell_type": "code",
   "source": [
    "import torch\n",
    "from sklearn.metrics import classification_report\n",
    "\n",
    "# Get predictions from BERT\n",
    "preds = trainer.predict(test_dataset)\n",
    "pred_labels = torch.argmax(torch.tensor(preds.predictions), axis=1)\n",
    "\n",
    "# Print classification report\n",
    "print(classification_report(test_labels, pred_labels.numpy()))"
   ],
   "metadata": {
    "colab": {
     "base_uri": "https://localhost:8080/",
     "height": 173
    },
    "id": "S9eG1pN3iYdy",
    "outputId": "e3edeab7-8fc1-40b9-c123-82f156bd31da"
   },
   "execution_count": 42,
   "outputs": [
    {
     "output_type": "display_data",
     "data": {
      "text/plain": [
       "<IPython.core.display.HTML object>"
      ],
      "text/html": []
     },
     "metadata": {}
    },
    {
     "output_type": "stream",
     "name": "stdout",
     "text": [
      "              precision    recall  f1-score   support\n",
      "\n",
      "           0       0.86      0.94      0.90       620\n",
      "           1       0.80      0.62      0.70       240\n",
      "\n",
      "    accuracy                           0.85       860\n",
      "   macro avg       0.83      0.78      0.80       860\n",
      "weighted avg       0.85      0.85      0.84       860\n",
      "\n"
     ]
    }
   ]
  }
 ]
}
